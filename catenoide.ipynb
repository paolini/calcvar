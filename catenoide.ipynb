{
 "cells": [
  {
   "cell_type": "code",
   "execution_count": 1,
   "id": "2f5f47e6",
   "metadata": {},
   "outputs": [],
   "source": [
    "from matplotlib import pyplot as plt\n",
    "from math import *\n",
    "import numpy as np"
   ]
  },
  {
   "cell_type": "code",
   "execution_count": 77,
   "id": "e84e4dcb",
   "metadata": {},
   "outputs": [
    {
     "name": "stdout",
     "output_type": "stream",
     "text": [
      "x0=1.199678640257734 m=1.5088795615383201\n"
     ]
    }
   ],
   "source": [
    "def solve(f,a,b,err=1E-15):\n",
    "    fa = f(a)\n",
    "    fb = f(b)\n",
    "    if fa*fb>0: raise Exception(\"no sign change\")\n",
    "    while fabs(b-a)>err: \n",
    "        x = (a+b)/2\n",
    "        fx = f(x)\n",
    "        if fa*fx < 0:\n",
    "            b=x\n",
    "            fb=fx\n",
    "        else:\n",
    "            a=x\n",
    "            fa=fx\n",
    "    return 0.5*(a+b)\n",
    "\n",
    "def f(x):\n",
    "    return x*sinh(x)-cosh(x)\n",
    "\n",
    "x0 = solve(f,1,2)\n",
    "m = sinh(x0)\n",
    "print(\"x0={} m={}\".format(x0,m))\n",
    "\n",
    "def R(x):\n",
    "    return cosh(x)/x\n",
    "\n",
    "def A(x):\n",
    "    return 1+x*sinh(x)-cosh(x)\n",
    "\n",
    "def B(r):\n",
    "    return 0.5*r*r\n",
    "\n",
    "def apply(f,x):\n",
    "    return np.array([f(t) for t in x])"
   ]
  },
  {
   "cell_type": "code",
   "execution_count": 75,
   "id": "f91322b8",
   "metadata": {},
   "outputs": [
    {
     "data": {
      "text/plain": [
       "[<matplotlib.lines.Line2D at 0x7f5b03aaace0>]"
      ]
     },
     "execution_count": 75,
     "metadata": {},
     "output_type": "execute_result"
    },
    {
     "data": {
      "image/png": "[encoded data removed]",
      "text/plain": [
       "<Figure size 432x288 with 1 Axes>"
      ]
     },
     "metadata": {
      "needs_background": "light"
     },
     "output_type": "display_data"
    }
   ],
   "source": [
    "x = np.arange(0,2,0.01)\n",
    "plt.plot(x,np.cosh(x))\n",
    "plt.plot(x,m*x)"
   ]
  },
  {
   "cell_type": "code",
   "execution_count": 78,
   "id": "58347b40",
   "metadata": {},
   "outputs": [
    {
     "data": {
      "text/plain": [
       "[<matplotlib.lines.Line2D at 0x7f5b03b1fe80>]"
      ]
     },
     "execution_count": 78,
     "metadata": {},
     "output_type": "execute_result"
    },
    {
     "data": {
      "image/png": "[encoded data removed]",
      "text/plain": [
       "<Figure size 432x288 with 1 Axes>"
      ]
     },
     "metadata": {
      "needs_background": "light"
     },
     "output_type": "display_data"
    }
   ],
   "source": [
    "x=np.arange(x0-0.1,x0+0.1,0.001)\n",
    "r=np.arange(m-0.1,m+0.1,0.001)\n",
    "plt.plot(apply(R,x),apply(A,x))\n",
    "plt.plot(r,apply(B,r))\n",
    "plt.plot([m],[B(m)],'*')"
   ]
  },
  {
   "cell_type": "code",
   "execution_count": 22,
   "id": "ed00bdad",
   "metadata": {},
   "outputs": [
    {
     "data": {
      "text/plain": [
       "2.220446049250313e-16"
      ]
     },
     "execution_count": 22,
     "metadata": {},
     "output_type": "execute_result"
    }
   ],
   "source": []
  },
  {
   "cell_type": "code",
   "execution_count": 21,
   "id": "9ff84868",
   "metadata": {},
   "outputs": [
    {
     "data": {
      "text/plain": [
       "1.4142135623730951"
      ]
     },
     "execution_count": 21,
     "metadata": {},
     "output_type": "execute_result"
    }
   ],
   "source": []
  },
  {
   "cell_type": "code",
   "execution_count": 50,
   "id": "8e1b2dbc",
   "metadata": {},
   "outputs": [
    {
     "data": {
      "text/plain": [
       "1.8101705806989776"
      ]
     },
     "execution_count": 50,
     "metadata": {},
     "output_type": "execute_result"
    }
   ],
   "source": [
    "cosh(m)"
   ]
  },
  {
   "cell_type": "code",
   "execution_count": 51,
   "id": "9988f98a",
   "metadata": {},
   "outputs": [
    {
     "data": {
      "text/plain": [
       "1.8101705806989776"
      ]
     },
     "execution_count": 51,
     "metadata": {},
     "output_type": "execute_result"
    }
   ],
   "source": [
    "m*sinh(m)"
   ]
  },
  {
   "cell_type": "code",
   "execution_count": null,
   "id": "8dae9973",
   "metadata": {},
   "outputs": [],
   "source": []
  }
 ],
 "metadata": {
  "kernelspec": {
   "display_name": "Python 3 (ipykernel)",
   "language": "python",
   "name": "python3"
  },
  "language_info": {
   "codemirror_mode": {
    "name": "ipython",
    "version": 3
   },
   "file_extension": ".py",
   "mimetype": "text/x-python",
   "name": "python",
   "nbconvert_exporter": "python",
   "pygments_lexer": "ipython3",
   "version": "3.10.12"
  }
 },
 "nbformat": 4,
 "nbformat_minor": 5
}
